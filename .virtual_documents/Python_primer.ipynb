




















# This is a single-line comment

"""
This is a
multiline
comment
"""


# the following code has a hierarchy, whereby `print(c)` is a child of `for c in "example"`
for c in "example":
    print(c)








w = 1
x = -3255522
y = 1.09834
z = -20.976362

print(type(w))
print(type(x))
print(type(y))
print(type(z))





text = "This is a sample sentence."

for c in text:
    print(c)





for c in text.split():
    print(c)





ingredients = ["chicken", "curry spices", "yoghurt", "coconut milk"]





for i in ingredients:
    print(i)





# Lists are ordered and indexed

print(ingredients[1])


# Lists are changeable
ingredients[2] = "vegan yoghurt"
print(ingredients)


# Lists may contain duplicate values
ingredients.append("chicken")
# we need A LOT of chicken!
print(ingredients)


# How many items are in a list?
print(len(ingredients))





shopping_list = {
    "chicken": "1 whole",
    "curry spices": "150gr",
    "yoghurt": "200gr",
    "coconut milk": "400ml",
}

print(shopping_list)


# Dictionaries are ordered
print(shopping_list["chicken"])


# Dictionaries are changeable
shopping_list["yoghurt"] = "400gr"
print(shopping_list)


# Dictionaries do not allow duplicates
shopping_list = {
    "chicken": "1 whole",
    "curry spices": "150gr",
    "yoghurt": "200gr",
    "coconut milk": "400ml",
    "coconut milk": "300ml",
}

print(shopping_list)


# How many items are in a dictionary?
print(len(shopping_list))














with open("./data/instagram/2022-01-02_14-00-14_UTC.txt", "r") as text:
    print(text)
    


with open("./data/instagram/2022-01-02_14-00-14_UTC.txt", "r") as text:
    print(text.read())





from glob import glob

files = glob("./data/instagram/*.txt")

for file in files:
    text = open(file, "r").read()
    print(text)





ingredients = ["chicken", "curry spices", "yoghurt", "coconut milk"]
more_ingredients = ["rice","ghee","salt","bay leaves"]


out = open("list_of_ingredients.txt", "w")
for i in ingredients:
    out.write(f"{i}\n")
out.close()


out = open("list_of_ingredients.txt", "w")
for m in more_ingredients:
    out.write(f"{m}\n")
out.close()


out = open("list_of_ingredients.txt", "a")
for i in ingredients:
    out.write(f"{i}\n")
out.close()


with open("list_of_ingredients.txt", "a") as out:
    for i in ingredients:
        out.write(f"{i}\n")
    for m in more_ingredients:
        out.write(f"{m}\n")
        








import pandas as pd

metadata = pd.read_csv("./data/metadata.csv", sep="\t")
metadata = metadata.set_index("filename")
metadata = metadata.groupby(metadata.index).first()

print(metadata.loc["2022-12-12_22-00-37_UTC.txt", "type"])








from bs4 import BeautifulSoup
from glob import glob

data = glob("./data/xml/*.xml")

for d in data:
    f = open(d, encoding="utf-8")
    soup = BeautifulSoup(f, "lxml")
    author = soup.find("doc")["author"]
    print(author)





# first, we need to install beautifulsoup and lxml through
# pip install beautifulsoup4 lxml
from bs4 import BeautifulSoup
from glob import glob

data = glob("./data/xml/*.xml")

for d in data:
    f = open(d, encoding="utf-8")
    filename = file.replace(".xml", "")
    soup = BeautifulSoup(f, "lxml")
    doc_tag = soup.find("doc")
    doc_tag.name = "text"
    print(soup)





from lxml import etree
from glob import glob
import pandas as pd

metadata = pd.read_csv("./data/metadata.csv", sep="\t")
metadata = metadata.set_index("filename")
metadata = metadata.groupby(metadata.index).first()

data = glob("./data/instagram/*.txt")

for d in data:
    filename = re.sub(".*?instagram\/", "", d)
    f = open(d, "r").read()
    root_tag = etree.Element("text")
    root_tag.attrib["type"] = metadata.loc[f"{filename}", "type"]
    root_tag.text = f
    tree = etree.ElementTree(root_tag)
    tree.write(
        f"./data/instagram/{filename}.xml",
        pretty_print=True,
        xml_declaration=True,
        encoding="utf-8",
    )
    
    





from lingua import Language, LanguageDetectorBuilder
from glob import glob
import re

# Setup some variables and parameters to be later used
languages = [Language.ENGLISH, Language.FRENCH]
detector = LanguageDetectorBuilder.from_languages(*languages).build()


posts = glob("./data/instagram/*.txt")

for post in posts:
    f = open(post, "r").readlines()
    for line in f:
        lang = detector.detect_language_of(line)
        print(f"TEXT::{line}\nLANG::{lang}\n")
        





posts = glob("./data/instagram/*.txt")

for post in posts:
    f = open(post, "r").readlines()
    post_lines = {}
    recognised_lang = ""
    post_name = re.sub(".*?instagram\/", "", post).replace("/", "").replace(".txt", "")
    for line in f:
        lang = detector.detect_language_of(line)
        if lang is None:
            lang = recognised_lang
        else:
            post_lines[f"{line}"] = lang
    lines_en = [k for k,v in post_lines.items() if str(v) == "Language.ENGLISH"]
    lines_fr = [k for k,v in post_lines.items() if str(v) == "Language.FRENCH"]
    post_en = open(f"{post_name}_EN.txt", "a").write("\n".join(lines_en))
    post_fr = open(f"{post_name}_FR.txt", "a").write(lines_fr)





import emoji

# Define a custom function to transliterate emojis and add curly brackets as delimites for the CLDR

def demoji(chars, data_dict):
    trans = emoji.demojize(chars, delimiters=("{", "}"))
    return trans


posts = glob("./data/instagram/*.txt")

for post in posts:
    f = open(post, "r").readlines()
    for line in f:
        line = emoji.replace_emoji(line, replace=lambda chars, data_dict: demoji(chars,data_dict))
        print(line)





import re
import wordsegment

wordsegment.load()
hashtag_re = re.compile("(?:^|\s)([＃#]{1})(\w+)", re.UNICODE)


posts = glob("./data/instagram/*.txt")

for post in posts:
    f = open(post, "r").read()
    segmented_hastags = ""
    for hashtag in re.findall(hashtag_re, f):
        found_hashtag = "".join(hashtag)
        clean_hashtag = hashtag[1]
        segmented = " ".join(wordsegment.segment(clean_hashtag))
        tag = f"<exhashtag original='{clean_hashtag}'>{segmented}</exhashtag>"
        f = f.replace(found_hashtag, tag)
    print(f)






